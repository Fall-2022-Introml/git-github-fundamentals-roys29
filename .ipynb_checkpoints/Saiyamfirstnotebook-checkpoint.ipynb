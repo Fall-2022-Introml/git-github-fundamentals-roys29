{
 "cells": [
  {
   "cell_type": "markdown",
   "id": "2fabcb96-6153-4523-9f7c-d7adec838537",
   "metadata": {},
   "source": [
    "# Saiyam Roy's First Notebook"
   ]
  },
  {
   "cell_type": "code",
   "execution_count": 1,
   "id": "9026ba28-1f93-4630-ace7-8b5f418e5a24",
   "metadata": {},
   "outputs": [],
   "source": [
    "variable = 5 + 5"
   ]
  },
  {
   "cell_type": "code",
   "execution_count": 2,
   "id": "8cf7ab30-69fd-4dba-a7e6-f763d3bf5f3b",
   "metadata": {},
   "outputs": [
    {
     "name": "stdout",
     "output_type": "stream",
     "text": [
      "10\n"
     ]
    }
   ],
   "source": [
    "print(variable)"
   ]
  },
  {
   "cell_type": "code",
   "execution_count": null,
   "id": "d58b7d2c-cb5a-4126-9bd7-455b64bcec14",
   "metadata": {},
   "outputs": [],
   "source": []
  }
 ],
 "metadata": {
  "kernelspec": {
   "display_name": "Python 3",
   "language": "python",
   "name": "python3"
  },
  "language_info": {
   "codemirror_mode": {
    "name": "ipython",
    "version": 3
   },
   "file_extension": ".py",
   "mimetype": "text/x-python",
   "name": "python",
   "nbconvert_exporter": "python",
   "pygments_lexer": "ipython3",
   "version": "3.8.8"
  }
 },
 "nbformat": 4,
 "nbformat_minor": 5
}
